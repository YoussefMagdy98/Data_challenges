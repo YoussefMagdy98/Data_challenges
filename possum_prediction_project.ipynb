{
 "cells": [
  {
   "cell_type": "markdown",
   "id": "c6ff13d0",
   "metadata": {},
   "source": [
    "# Investigate Possum dataset\n",
    "\n",
    "## Table of content:\n",
    "<ul>\n",
    "<li><a href=\"#intro\">Introduction</a></li>\n",
    "<li><a href=\"#intro\">Data Wrangling</a></li>\n",
    "<li><a href=\"#intro\">EDA (Exploratory Data Analysis)</a></li>\n",
    "<li><a href=\"#intro\">Making some prediction using Random forest and XGboost algorithms</a></li>\n",
    "<li><a href=\"#intro\">Conclusion</a></li>\n",
    "</ul>\n",
    "\n"
   ]
  },
  {
   "cell_type": "markdown",
   "id": "ff58e892",
   "metadata": {},
   "source": [
    "<a id='intro'></a>\n",
    "## Introduction\n",
    "\n",
    "### Dataset description\n",
    "\n",
    "> From the DAAG R package: \"The possum data frame consists of nine morphometric measurements on each of 104 mountain brushtail possums, trapped at seven sites from Southern Victoria to central Queensland.\"\n",
    "\n",
    "\n",
    "### Question(s) for Analysis:\n",
    "1 - What are the differences between the female and male sex?\n",
    "\n",
    "2 - Can we predict the sex of Possums using body dimensions?\n",
    "\n",
    "3 - Can we predict the age of Possums using body dimensions?"
   ]
  },
  {
   "cell_type": "code",
   "execution_count": 2,
   "id": "79c5e432",
   "metadata": {},
   "outputs": [],
   "source": [
    "# importing some packages\n",
    "import pandas as pd\n",
    "import matplotlib.pyplot as plt\n",
    "%matplotlib inline\n",
    "import scipy.stats\n",
    "import numpy as np"
   ]
  },
  {
   "cell_type": "markdown",
   "id": "d048f184",
   "metadata": {},
   "source": [
    "## Data Wrangling"
   ]
  },
  {
   "cell_type": "code",
   "execution_count": 3,
   "id": "30d30ad1",
   "metadata": {},
   "outputs": [
    {
     "data": {
      "text/html": [
       "<div>\n",
       "<style scoped>\n",
       "    .dataframe tbody tr th:only-of-type {\n",
       "        vertical-align: middle;\n",
       "    }\n",
       "\n",
       "    .dataframe tbody tr th {\n",
       "        vertical-align: top;\n",
       "    }\n",
       "\n",
       "    .dataframe thead th {\n",
       "        text-align: right;\n",
       "    }\n",
       "</style>\n",
       "<table border=\"1\" class=\"dataframe\">\n",
       "  <thead>\n",
       "    <tr style=\"text-align: right;\">\n",
       "      <th></th>\n",
       "      <th>case</th>\n",
       "      <th>site</th>\n",
       "      <th>Pop</th>\n",
       "      <th>sex</th>\n",
       "      <th>age</th>\n",
       "      <th>hdlngth</th>\n",
       "      <th>skullw</th>\n",
       "      <th>totlngth</th>\n",
       "      <th>taill</th>\n",
       "      <th>footlgth</th>\n",
       "      <th>earconch</th>\n",
       "      <th>eye</th>\n",
       "      <th>chest</th>\n",
       "      <th>belly</th>\n",
       "    </tr>\n",
       "  </thead>\n",
       "  <tbody>\n",
       "    <tr>\n",
       "      <th>0</th>\n",
       "      <td>1</td>\n",
       "      <td>1</td>\n",
       "      <td>Vic</td>\n",
       "      <td>m</td>\n",
       "      <td>8.0</td>\n",
       "      <td>94.1</td>\n",
       "      <td>60.4</td>\n",
       "      <td>89.0</td>\n",
       "      <td>36.0</td>\n",
       "      <td>74.5</td>\n",
       "      <td>54.5</td>\n",
       "      <td>15.2</td>\n",
       "      <td>28.0</td>\n",
       "      <td>36.0</td>\n",
       "    </tr>\n",
       "    <tr>\n",
       "      <th>1</th>\n",
       "      <td>2</td>\n",
       "      <td>1</td>\n",
       "      <td>Vic</td>\n",
       "      <td>f</td>\n",
       "      <td>6.0</td>\n",
       "      <td>92.5</td>\n",
       "      <td>57.6</td>\n",
       "      <td>91.5</td>\n",
       "      <td>36.5</td>\n",
       "      <td>72.5</td>\n",
       "      <td>51.2</td>\n",
       "      <td>16.0</td>\n",
       "      <td>28.5</td>\n",
       "      <td>33.0</td>\n",
       "    </tr>\n",
       "    <tr>\n",
       "      <th>2</th>\n",
       "      <td>3</td>\n",
       "      <td>1</td>\n",
       "      <td>Vic</td>\n",
       "      <td>f</td>\n",
       "      <td>6.0</td>\n",
       "      <td>94.0</td>\n",
       "      <td>60.0</td>\n",
       "      <td>95.5</td>\n",
       "      <td>39.0</td>\n",
       "      <td>75.4</td>\n",
       "      <td>51.9</td>\n",
       "      <td>15.5</td>\n",
       "      <td>30.0</td>\n",
       "      <td>34.0</td>\n",
       "    </tr>\n",
       "    <tr>\n",
       "      <th>3</th>\n",
       "      <td>4</td>\n",
       "      <td>1</td>\n",
       "      <td>Vic</td>\n",
       "      <td>f</td>\n",
       "      <td>6.0</td>\n",
       "      <td>93.2</td>\n",
       "      <td>57.1</td>\n",
       "      <td>92.0</td>\n",
       "      <td>38.0</td>\n",
       "      <td>76.1</td>\n",
       "      <td>52.2</td>\n",
       "      <td>15.2</td>\n",
       "      <td>28.0</td>\n",
       "      <td>34.0</td>\n",
       "    </tr>\n",
       "    <tr>\n",
       "      <th>4</th>\n",
       "      <td>5</td>\n",
       "      <td>1</td>\n",
       "      <td>Vic</td>\n",
       "      <td>f</td>\n",
       "      <td>2.0</td>\n",
       "      <td>91.5</td>\n",
       "      <td>56.3</td>\n",
       "      <td>85.5</td>\n",
       "      <td>36.0</td>\n",
       "      <td>71.0</td>\n",
       "      <td>53.2</td>\n",
       "      <td>15.1</td>\n",
       "      <td>28.5</td>\n",
       "      <td>33.0</td>\n",
       "    </tr>\n",
       "  </tbody>\n",
       "</table>\n",
       "</div>"
      ],
      "text/plain": [
       "   case  site  Pop sex  age  hdlngth  skullw  totlngth  taill  footlgth  \\\n",
       "0     1     1  Vic   m  8.0     94.1    60.4      89.0   36.0      74.5   \n",
       "1     2     1  Vic   f  6.0     92.5    57.6      91.5   36.5      72.5   \n",
       "2     3     1  Vic   f  6.0     94.0    60.0      95.5   39.0      75.4   \n",
       "3     4     1  Vic   f  6.0     93.2    57.1      92.0   38.0      76.1   \n",
       "4     5     1  Vic   f  2.0     91.5    56.3      85.5   36.0      71.0   \n",
       "\n",
       "   earconch   eye  chest  belly  \n",
       "0      54.5  15.2   28.0   36.0  \n",
       "1      51.2  16.0   28.5   33.0  \n",
       "2      51.9  15.5   30.0   34.0  \n",
       "3      52.2  15.2   28.0   34.0  \n",
       "4      53.2  15.1   28.5   33.0  "
      ]
     },
     "execution_count": 3,
     "metadata": {},
     "output_type": "execute_result"
    }
   ],
   "source": [
    "# loading data\n",
    "df = pd.read_csv('possum.csv')\n",
    "df.head()"
   ]
  },
  {
   "cell_type": "markdown",
   "id": "cc983207",
   "metadata": {},
   "source": [
    "### Columns:\n",
    "1- case: observation number.\n",
    "\n",
    "2- site: The site number where the possum was trapped.\n",
    "\n",
    "3- pop: Population, either Vic (Victoria) or other (New South Wales or Queensland).\n",
    "\n",
    "4- sex: Gender, either m (male) or f (female).\n",
    "\n",
    "5- age: age\n",
    "\n",
    "6- hdlngth: Head length, in mm.\n",
    "\n",
    "7- skullw: Skull width, in mm.\n",
    "\n",
    "8- totlngth: Total length, in cm.\n",
    "\n",
    "9- taill: Tail length, in cm.\n",
    "\n",
    "10- footlgth: foot length\n",
    "\n",
    "11- earconch: ear conch length\n",
    "\n",
    "12- eye: distance from medial canthus to lateral canthus of right eye\n",
    "\n",
    "13- chest: chest girth (in cm)\n",
    "\n",
    "14- belly: belly girth (in cm)"
   ]
  },
  {
   "cell_type": "code",
   "execution_count": 4,
   "id": "82e2090d",
   "metadata": {},
   "outputs": [
    {
     "data": {
      "text/plain": [
       "(104, 14)"
      ]
     },
     "execution_count": 4,
     "metadata": {},
     "output_type": "execute_result"
    }
   ],
   "source": [
    "# print data shape\n",
    "df.shape"
   ]
  },
  {
   "cell_type": "code",
   "execution_count": 5,
   "id": "c02a71fc",
   "metadata": {},
   "outputs": [
    {
     "data": {
      "text/plain": [
       "case          int64\n",
       "site          int64\n",
       "Pop          object\n",
       "sex          object\n",
       "age         float64\n",
       "hdlngth     float64\n",
       "skullw      float64\n",
       "totlngth    float64\n",
       "taill       float64\n",
       "footlgth    float64\n",
       "earconch    float64\n",
       "eye         float64\n",
       "chest       float64\n",
       "belly       float64\n",
       "dtype: object"
      ]
     },
     "execution_count": 5,
     "metadata": {},
     "output_type": "execute_result"
    }
   ],
   "source": [
    "# print data type for each column\n",
    "df.dtypes"
   ]
  },
  {
   "cell_type": "code",
   "execution_count": 6,
   "id": "d021fe95",
   "metadata": {},
   "outputs": [
    {
     "data": {
      "text/plain": [
       "case        0\n",
       "site        0\n",
       "Pop         0\n",
       "sex         0\n",
       "age         2\n",
       "hdlngth     0\n",
       "skullw      0\n",
       "totlngth    0\n",
       "taill       0\n",
       "footlgth    1\n",
       "earconch    0\n",
       "eye         0\n",
       "chest       0\n",
       "belly       0\n",
       "dtype: int64"
      ]
     },
     "execution_count": 6,
     "metadata": {},
     "output_type": "execute_result"
    }
   ],
   "source": [
    "# check null values\n",
    "df.isna().sum()"
   ]
  },
  {
   "cell_type": "code",
   "execution_count": 7,
   "id": "fc7cade5",
   "metadata": {},
   "outputs": [
    {
     "data": {
      "text/html": [
       "<div>\n",
       "<style scoped>\n",
       "    .dataframe tbody tr th:only-of-type {\n",
       "        vertical-align: middle;\n",
       "    }\n",
       "\n",
       "    .dataframe tbody tr th {\n",
       "        vertical-align: top;\n",
       "    }\n",
       "\n",
       "    .dataframe thead th {\n",
       "        text-align: right;\n",
       "    }\n",
       "</style>\n",
       "<table border=\"1\" class=\"dataframe\">\n",
       "  <thead>\n",
       "    <tr style=\"text-align: right;\">\n",
       "      <th></th>\n",
       "      <th>case</th>\n",
       "      <th>site</th>\n",
       "      <th>age</th>\n",
       "      <th>hdlngth</th>\n",
       "      <th>skullw</th>\n",
       "      <th>totlngth</th>\n",
       "      <th>taill</th>\n",
       "      <th>footlgth</th>\n",
       "      <th>earconch</th>\n",
       "      <th>eye</th>\n",
       "      <th>chest</th>\n",
       "      <th>belly</th>\n",
       "    </tr>\n",
       "  </thead>\n",
       "  <tbody>\n",
       "    <tr>\n",
       "      <th>count</th>\n",
       "      <td>104.000000</td>\n",
       "      <td>104.000000</td>\n",
       "      <td>102.000000</td>\n",
       "      <td>104.000000</td>\n",
       "      <td>104.000000</td>\n",
       "      <td>104.000000</td>\n",
       "      <td>104.000000</td>\n",
       "      <td>103.000000</td>\n",
       "      <td>104.000000</td>\n",
       "      <td>104.000000</td>\n",
       "      <td>104.000000</td>\n",
       "      <td>104.000000</td>\n",
       "    </tr>\n",
       "    <tr>\n",
       "      <th>mean</th>\n",
       "      <td>52.500000</td>\n",
       "      <td>3.625000</td>\n",
       "      <td>3.833333</td>\n",
       "      <td>92.602885</td>\n",
       "      <td>56.883654</td>\n",
       "      <td>87.088462</td>\n",
       "      <td>37.009615</td>\n",
       "      <td>68.459223</td>\n",
       "      <td>48.130769</td>\n",
       "      <td>15.046154</td>\n",
       "      <td>27.000000</td>\n",
       "      <td>32.586538</td>\n",
       "    </tr>\n",
       "    <tr>\n",
       "      <th>std</th>\n",
       "      <td>30.166206</td>\n",
       "      <td>2.349086</td>\n",
       "      <td>1.909244</td>\n",
       "      <td>3.573349</td>\n",
       "      <td>3.113426</td>\n",
       "      <td>4.310549</td>\n",
       "      <td>1.959518</td>\n",
       "      <td>4.395306</td>\n",
       "      <td>4.109380</td>\n",
       "      <td>1.050374</td>\n",
       "      <td>2.045597</td>\n",
       "      <td>2.761949</td>\n",
       "    </tr>\n",
       "    <tr>\n",
       "      <th>min</th>\n",
       "      <td>1.000000</td>\n",
       "      <td>1.000000</td>\n",
       "      <td>1.000000</td>\n",
       "      <td>82.500000</td>\n",
       "      <td>50.000000</td>\n",
       "      <td>75.000000</td>\n",
       "      <td>32.000000</td>\n",
       "      <td>60.300000</td>\n",
       "      <td>40.300000</td>\n",
       "      <td>12.800000</td>\n",
       "      <td>22.000000</td>\n",
       "      <td>25.000000</td>\n",
       "    </tr>\n",
       "    <tr>\n",
       "      <th>25%</th>\n",
       "      <td>26.750000</td>\n",
       "      <td>1.000000</td>\n",
       "      <td>2.250000</td>\n",
       "      <td>90.675000</td>\n",
       "      <td>54.975000</td>\n",
       "      <td>84.000000</td>\n",
       "      <td>35.875000</td>\n",
       "      <td>64.600000</td>\n",
       "      <td>44.800000</td>\n",
       "      <td>14.400000</td>\n",
       "      <td>25.500000</td>\n",
       "      <td>31.000000</td>\n",
       "    </tr>\n",
       "    <tr>\n",
       "      <th>50%</th>\n",
       "      <td>52.500000</td>\n",
       "      <td>3.000000</td>\n",
       "      <td>3.000000</td>\n",
       "      <td>92.800000</td>\n",
       "      <td>56.350000</td>\n",
       "      <td>88.000000</td>\n",
       "      <td>37.000000</td>\n",
       "      <td>68.000000</td>\n",
       "      <td>46.800000</td>\n",
       "      <td>14.900000</td>\n",
       "      <td>27.000000</td>\n",
       "      <td>32.500000</td>\n",
       "    </tr>\n",
       "    <tr>\n",
       "      <th>75%</th>\n",
       "      <td>78.250000</td>\n",
       "      <td>6.000000</td>\n",
       "      <td>5.000000</td>\n",
       "      <td>94.725000</td>\n",
       "      <td>58.100000</td>\n",
       "      <td>90.000000</td>\n",
       "      <td>38.000000</td>\n",
       "      <td>72.500000</td>\n",
       "      <td>52.000000</td>\n",
       "      <td>15.725000</td>\n",
       "      <td>28.000000</td>\n",
       "      <td>34.125000</td>\n",
       "    </tr>\n",
       "    <tr>\n",
       "      <th>max</th>\n",
       "      <td>104.000000</td>\n",
       "      <td>7.000000</td>\n",
       "      <td>9.000000</td>\n",
       "      <td>103.100000</td>\n",
       "      <td>68.600000</td>\n",
       "      <td>96.500000</td>\n",
       "      <td>43.000000</td>\n",
       "      <td>77.900000</td>\n",
       "      <td>56.200000</td>\n",
       "      <td>17.800000</td>\n",
       "      <td>32.000000</td>\n",
       "      <td>40.000000</td>\n",
       "    </tr>\n",
       "  </tbody>\n",
       "</table>\n",
       "</div>"
      ],
      "text/plain": [
       "             case        site         age     hdlngth      skullw    totlngth  \\\n",
       "count  104.000000  104.000000  102.000000  104.000000  104.000000  104.000000   \n",
       "mean    52.500000    3.625000    3.833333   92.602885   56.883654   87.088462   \n",
       "std     30.166206    2.349086    1.909244    3.573349    3.113426    4.310549   \n",
       "min      1.000000    1.000000    1.000000   82.500000   50.000000   75.000000   \n",
       "25%     26.750000    1.000000    2.250000   90.675000   54.975000   84.000000   \n",
       "50%     52.500000    3.000000    3.000000   92.800000   56.350000   88.000000   \n",
       "75%     78.250000    6.000000    5.000000   94.725000   58.100000   90.000000   \n",
       "max    104.000000    7.000000    9.000000  103.100000   68.600000   96.500000   \n",
       "\n",
       "            taill    footlgth    earconch         eye       chest       belly  \n",
       "count  104.000000  103.000000  104.000000  104.000000  104.000000  104.000000  \n",
       "mean    37.009615   68.459223   48.130769   15.046154   27.000000   32.586538  \n",
       "std      1.959518    4.395306    4.109380    1.050374    2.045597    2.761949  \n",
       "min     32.000000   60.300000   40.300000   12.800000   22.000000   25.000000  \n",
       "25%     35.875000   64.600000   44.800000   14.400000   25.500000   31.000000  \n",
       "50%     37.000000   68.000000   46.800000   14.900000   27.000000   32.500000  \n",
       "75%     38.000000   72.500000   52.000000   15.725000   28.000000   34.125000  \n",
       "max     43.000000   77.900000   56.200000   17.800000   32.000000   40.000000  "
      ]
     },
     "execution_count": 7,
     "metadata": {},
     "output_type": "execute_result"
    }
   ],
   "source": [
    "# exploring numric data\n",
    "df.describe()"
   ]
  },
  {
   "cell_type": "code",
   "execution_count": 8,
   "id": "28ab4625",
   "metadata": {},
   "outputs": [
    {
     "data": {
      "text/plain": [
       "0"
      ]
     },
     "execution_count": 8,
     "metadata": {},
     "output_type": "execute_result"
    }
   ],
   "source": [
    "# check for duplicates\n",
    "df.duplicated().sum()"
   ]
  },
  {
   "cell_type": "code",
   "execution_count": 9,
   "id": "6acfb1af",
   "metadata": {},
   "outputs": [
    {
     "data": {
      "text/plain": [
       "array([[<AxesSubplot:title={'center':'case'}>,\n",
       "        <AxesSubplot:title={'center':'site'}>,\n",
       "        <AxesSubplot:title={'center':'age'}>],\n",
       "       [<AxesSubplot:title={'center':'hdlngth'}>,\n",
       "        <AxesSubplot:title={'center':'skullw'}>,\n",
       "        <AxesSubplot:title={'center':'totlngth'}>],\n",
       "       [<AxesSubplot:title={'center':'taill'}>,\n",
       "        <AxesSubplot:title={'center':'footlgth'}>,\n",
       "        <AxesSubplot:title={'center':'earconch'}>],\n",
       "       [<AxesSubplot:title={'center':'eye'}>,\n",
       "        <AxesSubplot:title={'center':'chest'}>,\n",
       "        <AxesSubplot:title={'center':'belly'}>]], dtype=object)"
      ]
     },
     "execution_count": 9,
     "metadata": {},
     "output_type": "execute_result"
    },
    {
     "data": {
      "image/png": "[encoded data removed]",
      "text/plain": [
       "<Figure size 432x288 with 12 Axes>"
      ]
     },
     "metadata": {
      "needs_background": "light"
     },
     "output_type": "display_data"
    }
   ],
   "source": [
    "# check the distribution of data\n",
    "df.hist()"
   ]
  },
  {
   "cell_type": "markdown",
   "id": "1738b306",
   "metadata": {},
   "source": [
    "Notes:\n",
    "\n",
    "1- Each column has the the appropriate data type according to the output of 'dtype' function.\n",
    "\n",
    "2- 2 columns have missing values as we found from the output of the 'info()' and 'isna()' functions.\n",
    "\n",
    "4- No duplicated value was found accourding to 'duplicated()' function."
   ]
  },
  {
   "cell_type": "markdown",
   "id": "13318d98",
   "metadata": {},
   "source": [
    "## EDA\n",
    "### Research Question 1: What are the differences between the female and male sex?"
   ]
  },
  {
   "cell_type": "code",
   "execution_count": 10,
   "id": "1e12141b",
   "metadata": {},
   "outputs": [
    {
     "data": {
      "image/png": "[encoded data removed]",
      "text/plain": [
       "<Figure size 432x288 with 1 Axes>"
      ]
     },
     "metadata": {
      "needs_background": "light"
     },
     "output_type": "display_data"
    }
   ],
   "source": [
    "# check the count of females and males \n",
    "sex_counts = df['sex'].value_counts()\n",
    "# create bar graph for sex_counts\n",
    "sex = ['Male', 'Female']\n",
    "plt.bar(sex, sex_counts, width = 0.4)\n",
    "plt.show()"
   ]
  },
  {
   "cell_type": "code",
   "execution_count": 11,
   "id": "27683fd8",
   "metadata": {},
   "outputs": [],
   "source": [
    "# dividing data into 2 parts: first part only hase data for males and the second has females data only\n",
    "male_df = df[df['sex']== 'm']\n",
    "female_df = df[df['sex']== 'f']"
   ]
  },
  {
   "cell_type": "code",
   "execution_count": 12,
   "id": "57613f27",
   "metadata": {},
   "outputs": [
    {
     "name": "stdout",
     "output_type": "stream",
     "text": [
      "this data has 1 unique value and it's: m\n",
      "this data has 1 unique value and it's: f\n"
     ]
    }
   ],
   "source": [
    "# check the success of last step\n",
    "print(str('this data has {} unique value'.format(male_df['sex'].nunique())) + ' ' + 'and it\\'s: {}'.format(male_df['sex'].unique()[0]))\n",
    "print(str('this data has {} unique value'.format(female_df['sex'].nunique())) + ' ' + 'and it\\'s: {}'.format(female_df['sex'].unique()[0]))"
   ]
  },
  {
   "cell_type": "code",
   "execution_count": 13,
   "id": "66102d6b",
   "metadata": {},
   "outputs": [
    {
     "name": "stdout",
     "output_type": "stream",
     "text": [
      "<class 'pandas.core.frame.DataFrame'>\n",
      "RangeIndex: 104 entries, 0 to 103\n",
      "Data columns (total 14 columns):\n",
      " #   Column    Non-Null Count  Dtype  \n",
      "---  ------    --------------  -----  \n",
      " 0   case      104 non-null    int64  \n",
      " 1   site      104 non-null    int64  \n",
      " 2   Pop       104 non-null    object \n",
      " 3   sex       104 non-null    object \n",
      " 4   age       102 non-null    float64\n",
      " 5   hdlngth   104 non-null    float64\n",
      " 6   skullw    104 non-null    float64\n",
      " 7   totlngth  104 non-null    float64\n",
      " 8   taill     104 non-null    float64\n",
      " 9   footlgth  103 non-null    float64\n",
      " 10  earconch  104 non-null    float64\n",
      " 11  eye       104 non-null    float64\n",
      " 12  chest     104 non-null    float64\n",
      " 13  belly     104 non-null    float64\n",
      "dtypes: float64(10), int64(2), object(2)\n",
      "memory usage: 11.5+ KB\n"
     ]
    }
   ],
   "source": [
    "# check variables names\n",
    "df.info()"
   ]
  },
  {
   "cell_type": "code",
   "execution_count": 14,
   "id": "4a16e0c8",
   "metadata": {},
   "outputs": [
    {
     "data": {
      "image/png": "[encoded data removed]",
      "text/plain": [
       "<Figure size 720x432 with 1 Axes>"
      ]
     },
     "metadata": {
      "needs_background": "light"
     },
     "output_type": "display_data"
    },
    {
     "name": "stdout",
     "output_type": "stream",
     "text": [
      "3.7288135593220337\n",
      "3.9767441860465116\n"
     ]
    }
   ],
   "source": [
    "# creating bar chart showing the average age, between females and males\n",
    "m_avrg_age = male_df['age'].mean()\n",
    "f_avrg_age = female_df['age'].mean()\n",
    "avrg_age = [m_avrg_age, f_avrg_age]\n",
    "sex = ['Male', 'Female']\n",
    "plt.figure(figsize=(10,6))\n",
    "plt.bar(sex, avrg_age, width = 0.4)\n",
    "plt.show()\n",
    "\n",
    "print(m_avrg_age)\n",
    "print(f_avrg_age)"
   ]
  },
  {
   "cell_type": "code",
   "execution_count": 15,
   "id": "edaf164a",
   "metadata": {},
   "outputs": [
    {
     "data": {
      "image/png": "[encoded data removed]",
      "text/plain": [
       "<Figure size 720x432 with 1 Axes>"
      ]
     },
     "metadata": {
      "needs_background": "light"
     },
     "output_type": "display_data"
    },
    {
     "name": "stdout",
     "output_type": "stream",
     "text": [
      "[92.14883720930233, 56.58837209302325]\n",
      "[92.92295081967214, 57.091803278688516]\n"
     ]
    }
   ],
   "source": [
    "# creating bar chart showing the average hdlngth and skullw between females and males\n",
    "X = ['Head length','skull width']\n",
    "Yfemale = [female_df['hdlngth'].mean(), female_df['skullw'].mean()]\n",
    "Zmale = [male_df['hdlngth'].mean(), male_df['skullw'].mean()]\n",
    "  \n",
    "X_axis = np.arange(len(X))\n",
    "\n",
    "plt.figure(figsize=(10,6))\n",
    "plt.bar(X_axis - 0.2, Yfemale, 0.4, label = 'female')\n",
    "plt.bar(X_axis + 0.2, Zmale, 0.4, label = 'male')\n",
    "  \n",
    "plt.xticks(X_axis, X)\n",
    "plt.xlabel(\"feature\")\n",
    "plt.ylabel(\"length and width in mm\")\n",
    "plt.title(\"average head length and skull width for females and males\")\n",
    "plt.legend()\n",
    "plt.show()\n",
    "\n",
    "print(Yfemale)\n",
    "print(Zmale)"
   ]
  },
  {
   "cell_type": "code",
   "execution_count": 16,
   "id": "c7781144",
   "metadata": {},
   "outputs": [
    {
     "data": {
      "image/png": "[encoded data removed]",
      "text/plain": [
       "<Figure size 720x432 with 1 Axes>"
      ]
     },
     "metadata": {
      "needs_background": "light"
     },
     "output_type": "display_data"
    },
    {
     "name": "stdout",
     "output_type": "stream",
     "text": [
      "[87.90697674418605, 37.104651162790695]\n",
      "[86.51147540983607, 36.942622950819676]\n"
     ]
    }
   ],
   "source": [
    "# creating bar chart showing the average totlngth and taill between females and males\n",
    "X = ['total length','taill length']\n",
    "Yfemale = [female_df['totlngth'].mean(), female_df['taill'].mean()]\n",
    "Zmale = [male_df['totlngth'].mean(), male_df['taill'].mean()]\n",
    "  \n",
    "X_axis = np.arange(len(X))\n",
    "\n",
    "plt.figure(figsize=(10,6))\n",
    "plt.bar(X_axis - 0.2, Yfemale, 0.4, label = 'female')\n",
    "plt.bar(X_axis + 0.2, Zmale, 0.4, label = 'male')\n",
    "  \n",
    "plt.xticks(X_axis, X)\n",
    "plt.xlabel(\"feature\")\n",
    "plt.ylabel(\"length in cm\")\n",
    "plt.title(\"average total length and tail length for females and males\")\n",
    "plt.legend()\n",
    "plt.show()\n",
    "\n",
    "print(Yfemale)\n",
    "print(Zmale)"
   ]
  },
  {
   "cell_type": "code",
   "execution_count": 17,
   "id": "8582f9b8",
   "metadata": {},
   "outputs": [
    {
     "data": {
      "image/png": "[encoded data removed]",
      "text/plain": [
       "<Figure size 720x432 with 1 Axes>"
      ]
     },
     "metadata": {
      "needs_background": "light"
     },
     "output_type": "display_data"
    },
    {
     "name": "stdout",
     "output_type": "stream",
     "text": [
      "68.00983606557377\n",
      "69.11190476190477\n"
     ]
    }
   ],
   "source": [
    "# creating bar chart showing the average footlgth between females and males\n",
    "m_avrg_footlgth = male_df['footlgth'].mean()\n",
    "f_avrg_footlgth = female_df['footlgth'].mean()\n",
    "avrg_footlgth = [m_avrg_footlgth, f_avrg_footlgth]\n",
    "sex = ['Male', 'Female']\n",
    "plt.figure(figsize=(10,6))\n",
    "plt.bar(sex, avrg_age, width = 0.4)\n",
    "plt.show()\n",
    "\n",
    "print(m_avrg_footlgth)\n",
    "print(f_avrg_footlgth)"
   ]
  },
  {
   "cell_type": "code",
   "execution_count": 18,
   "id": "1f189a5d",
   "metadata": {},
   "outputs": [
    {
     "data": {
      "image/png": "[encoded data removed]",
      "text/plain": [
       "<Figure size 720x432 with 1 Axes>"
      ]
     },
     "metadata": {
      "needs_background": "light"
     },
     "output_type": "display_data"
    },
    {
     "name": "stdout",
     "output_type": "stream",
     "text": [
      "[48.57674418604652, 14.81162790697674]\n",
      "[47.81639344262295, 15.211475409836066]\n"
     ]
    }
   ],
   "source": [
    "# creating bar chart showing the average earconch (ear conch length) and \n",
    "# eye (distance from medial canthus to lateral canthus of right eye) between females and males\n",
    "X = ['earconch','eye']\n",
    "Yfemale = [female_df['earconch'].mean(), female_df['eye'].mean()]\n",
    "Zmale = [male_df['earconch'].mean(), male_df['eye'].mean()]\n",
    "  \n",
    "X_axis = np.arange(len(X))\n",
    "\n",
    "plt.figure(figsize=(10,6))\n",
    "plt.bar(X_axis - 0.2, Yfemale, 0.4, label = 'female')\n",
    "plt.bar(X_axis + 0.2, Zmale, 0.4, label = 'male')\n",
    "  \n",
    "plt.xticks(X_axis, X)\n",
    "plt.xlabel(\"feature\")\n",
    "plt.ylabel(\"length in cm\")\n",
    "plt.title(\"average ear conch length and distance from medial canthus to lateral canthus of right eye for females and males\")\n",
    "plt.legend()\n",
    "plt.show()\n",
    "\n",
    "print(Yfemale)\n",
    "print(Zmale)"
   ]
  },
  {
   "cell_type": "code",
   "execution_count": 19,
   "id": "82b680ab",
   "metadata": {},
   "outputs": [
    {
     "data": {
      "image/png": "[encoded data removed]",
      "text/plain": [
       "<Figure size 720x432 with 1 Axes>"
      ]
     },
     "metadata": {
      "needs_background": "light"
     },
     "output_type": "display_data"
    },
    {
     "name": "stdout",
     "output_type": "stream",
     "text": [
      "[27.337209302325583, 32.883720930232556]\n",
      "[26.762295081967213, 32.377049180327866]\n"
     ]
    }
   ],
   "source": [
    "# creating bar chart showing the average chest grith and belly grith for males and females\n",
    "X = ['chest','belly']\n",
    "Yfemale = [female_df['chest'].mean(), female_df['belly'].mean()]\n",
    "Zmale = [male_df['chest'].mean(), male_df['belly'].mean()]\n",
    "  \n",
    "X_axis = np.arange(len(X))\n",
    "\n",
    "plt.figure(figsize=(10,6))\n",
    "plt.bar(X_axis - 0.2, Yfemale, 0.4, label = 'female')\n",
    "plt.bar(X_axis + 0.2, Zmale, 0.4, label = 'male')\n",
    "  \n",
    "plt.xticks(X_axis, X)\n",
    "plt.xlabel(\"feature\")\n",
    "plt.ylabel(\"grith in cm\")\n",
    "plt.title(\"average chest grith and belly grith for females and males\")\n",
    "plt.legend()\n",
    "plt.show()\n",
    "\n",
    "print(Yfemale)\n",
    "print(Zmale)"
   ]
  },
  {
   "cell_type": "markdown",
   "id": "70393706",
   "metadata": {},
   "source": [
    "## Notes:\n",
    "1- Females have greater average age than males (this could be an indicator that females tend to live more than males)\n",
    "\n",
    "2- Males have greater average head length and skull width than females.\n",
    "\n",
    "3- Females have slightly greater total length and taill length than males.\n",
    "\n",
    "4- Females have greater foot length than males.\n",
    "\n",
    "5- Females have greater chest and belly grith than males."
   ]
  },
  {
   "cell_type": "markdown",
   "id": "afef8354",
   "metadata": {},
   "source": [
    "## Making some prediction using Random forest and XGboost algorithms\n",
    "\n",
    "### Research Question 2: can we predict the sex of Possums using body dimensions?"
   ]
  },
  {
   "cell_type": "markdown",
   "id": "04fb2106",
   "metadata": {},
   "source": [
    "# Random forest model to predict Possums sex"
   ]
  },
  {
   "cell_type": "code",
   "execution_count": 20,
   "id": "09935dc2",
   "metadata": {},
   "outputs": [
    {
     "data": {
      "text/html": [
       "<div>\n",
       "<style scoped>\n",
       "    .dataframe tbody tr th:only-of-type {\n",
       "        vertical-align: middle;\n",
       "    }\n",
       "\n",
       "    .dataframe tbody tr th {\n",
       "        vertical-align: top;\n",
       "    }\n",
       "\n",
       "    .dataframe thead th {\n",
       "        text-align: right;\n",
       "    }\n",
       "</style>\n",
       "<table border=\"1\" class=\"dataframe\">\n",
       "  <thead>\n",
       "    <tr style=\"text-align: right;\">\n",
       "      <th></th>\n",
       "      <th>case</th>\n",
       "      <th>site</th>\n",
       "      <th>Pop</th>\n",
       "      <th>sex</th>\n",
       "      <th>age</th>\n",
       "      <th>hdlngth</th>\n",
       "      <th>skullw</th>\n",
       "      <th>totlngth</th>\n",
       "      <th>taill</th>\n",
       "      <th>footlgth</th>\n",
       "      <th>earconch</th>\n",
       "      <th>eye</th>\n",
       "      <th>chest</th>\n",
       "      <th>belly</th>\n",
       "      <th>gender</th>\n",
       "    </tr>\n",
       "  </thead>\n",
       "  <tbody>\n",
       "    <tr>\n",
       "      <th>0</th>\n",
       "      <td>1</td>\n",
       "      <td>1</td>\n",
       "      <td>Vic</td>\n",
       "      <td>m</td>\n",
       "      <td>8.0</td>\n",
       "      <td>94.1</td>\n",
       "      <td>60.4</td>\n",
       "      <td>89.0</td>\n",
       "      <td>36.0</td>\n",
       "      <td>74.5</td>\n",
       "      <td>54.5</td>\n",
       "      <td>15.2</td>\n",
       "      <td>28.0</td>\n",
       "      <td>36.0</td>\n",
       "      <td>1</td>\n",
       "    </tr>\n",
       "    <tr>\n",
       "      <th>1</th>\n",
       "      <td>2</td>\n",
       "      <td>1</td>\n",
       "      <td>Vic</td>\n",
       "      <td>f</td>\n",
       "      <td>6.0</td>\n",
       "      <td>92.5</td>\n",
       "      <td>57.6</td>\n",
       "      <td>91.5</td>\n",
       "      <td>36.5</td>\n",
       "      <td>72.5</td>\n",
       "      <td>51.2</td>\n",
       "      <td>16.0</td>\n",
       "      <td>28.5</td>\n",
       "      <td>33.0</td>\n",
       "      <td>0</td>\n",
       "    </tr>\n",
       "    <tr>\n",
       "      <th>2</th>\n",
       "      <td>3</td>\n",
       "      <td>1</td>\n",
       "      <td>Vic</td>\n",
       "      <td>f</td>\n",
       "      <td>6.0</td>\n",
       "      <td>94.0</td>\n",
       "      <td>60.0</td>\n",
       "      <td>95.5</td>\n",
       "      <td>39.0</td>\n",
       "      <td>75.4</td>\n",
       "      <td>51.9</td>\n",
       "      <td>15.5</td>\n",
       "      <td>30.0</td>\n",
       "      <td>34.0</td>\n",
       "      <td>0</td>\n",
       "    </tr>\n",
       "    <tr>\n",
       "      <th>3</th>\n",
       "      <td>4</td>\n",
       "      <td>1</td>\n",
       "      <td>Vic</td>\n",
       "      <td>f</td>\n",
       "      <td>6.0</td>\n",
       "      <td>93.2</td>\n",
       "      <td>57.1</td>\n",
       "      <td>92.0</td>\n",
       "      <td>38.0</td>\n",
       "      <td>76.1</td>\n",
       "      <td>52.2</td>\n",
       "      <td>15.2</td>\n",
       "      <td>28.0</td>\n",
       "      <td>34.0</td>\n",
       "      <td>0</td>\n",
       "    </tr>\n",
       "    <tr>\n",
       "      <th>4</th>\n",
       "      <td>5</td>\n",
       "      <td>1</td>\n",
       "      <td>Vic</td>\n",
       "      <td>f</td>\n",
       "      <td>2.0</td>\n",
       "      <td>91.5</td>\n",
       "      <td>56.3</td>\n",
       "      <td>85.5</td>\n",
       "      <td>36.0</td>\n",
       "      <td>71.0</td>\n",
       "      <td>53.2</td>\n",
       "      <td>15.1</td>\n",
       "      <td>28.5</td>\n",
       "      <td>33.0</td>\n",
       "      <td>0</td>\n",
       "    </tr>\n",
       "  </tbody>\n",
       "</table>\n",
       "</div>"
      ],
      "text/plain": [
       "   case  site  Pop sex  age  hdlngth  skullw  totlngth  taill  footlgth  \\\n",
       "0     1     1  Vic   m  8.0     94.1    60.4      89.0   36.0      74.5   \n",
       "1     2     1  Vic   f  6.0     92.5    57.6      91.5   36.5      72.5   \n",
       "2     3     1  Vic   f  6.0     94.0    60.0      95.5   39.0      75.4   \n",
       "3     4     1  Vic   f  6.0     93.2    57.1      92.0   38.0      76.1   \n",
       "4     5     1  Vic   f  2.0     91.5    56.3      85.5   36.0      71.0   \n",
       "\n",
       "   earconch   eye  chest  belly  gender  \n",
       "0      54.5  15.2   28.0   36.0       1  \n",
       "1      51.2  16.0   28.5   33.0       0  \n",
       "2      51.9  15.5   30.0   34.0       0  \n",
       "3      52.2  15.2   28.0   34.0       0  \n",
       "4      53.2  15.1   28.5   33.0       0  "
      ]
     },
     "execution_count": 20,
     "metadata": {},
     "output_type": "execute_result"
    }
   ],
   "source": [
    "# Ordinal Encoding for sex column\n",
    "sex_dict = {'m': 1, 'f': 0}\n",
    "sex_list_num = []\n",
    "for gender in df['sex']:\n",
    "    for key, value in sex_dict.items():\n",
    "        if gender in key:\n",
    "            sex_list_num.append(sex_dict[gender])\n",
    "# add the converted sex column to data           \n",
    "df['gender']= sex_list_num\n",
    "# drop sex column from data\n",
    "df_num = df.drop('sex', axis = 1)\n",
    "# check the first rows of data\n",
    "df.head()"
   ]
  },
  {
   "cell_type": "code",
   "execution_count": 21,
   "id": "4f9f3a4d",
   "metadata": {},
   "outputs": [
    {
     "data": {
      "text/html": [
       "<div>\n",
       "<style scoped>\n",
       "    .dataframe tbody tr th:only-of-type {\n",
       "        vertical-align: middle;\n",
       "    }\n",
       "\n",
       "    .dataframe tbody tr th {\n",
       "        vertical-align: top;\n",
       "    }\n",
       "\n",
       "    .dataframe thead th {\n",
       "        text-align: right;\n",
       "    }\n",
       "</style>\n",
       "<table border=\"1\" class=\"dataframe\">\n",
       "  <thead>\n",
       "    <tr style=\"text-align: right;\">\n",
       "      <th></th>\n",
       "      <th>case</th>\n",
       "      <th>site</th>\n",
       "      <th>Pop</th>\n",
       "      <th>age</th>\n",
       "      <th>hdlngth</th>\n",
       "      <th>skullw</th>\n",
       "      <th>totlngth</th>\n",
       "      <th>taill</th>\n",
       "      <th>footlgth</th>\n",
       "      <th>earconch</th>\n",
       "      <th>eye</th>\n",
       "      <th>chest</th>\n",
       "      <th>belly</th>\n",
       "      <th>gender</th>\n",
       "    </tr>\n",
       "  </thead>\n",
       "  <tbody>\n",
       "    <tr>\n",
       "      <th>0</th>\n",
       "      <td>1</td>\n",
       "      <td>1</td>\n",
       "      <td>Vic</td>\n",
       "      <td>8.0</td>\n",
       "      <td>94.1</td>\n",
       "      <td>60.4</td>\n",
       "      <td>89.0</td>\n",
       "      <td>36.0</td>\n",
       "      <td>74.5</td>\n",
       "      <td>54.5</td>\n",
       "      <td>15.2</td>\n",
       "      <td>28.0</td>\n",
       "      <td>36.0</td>\n",
       "      <td>1</td>\n",
       "    </tr>\n",
       "    <tr>\n",
       "      <th>1</th>\n",
       "      <td>2</td>\n",
       "      <td>1</td>\n",
       "      <td>Vic</td>\n",
       "      <td>6.0</td>\n",
       "      <td>92.5</td>\n",
       "      <td>57.6</td>\n",
       "      <td>91.5</td>\n",
       "      <td>36.5</td>\n",
       "      <td>72.5</td>\n",
       "      <td>51.2</td>\n",
       "      <td>16.0</td>\n",
       "      <td>28.5</td>\n",
       "      <td>33.0</td>\n",
       "      <td>0</td>\n",
       "    </tr>\n",
       "    <tr>\n",
       "      <th>2</th>\n",
       "      <td>3</td>\n",
       "      <td>1</td>\n",
       "      <td>Vic</td>\n",
       "      <td>6.0</td>\n",
       "      <td>94.0</td>\n",
       "      <td>60.0</td>\n",
       "      <td>95.5</td>\n",
       "      <td>39.0</td>\n",
       "      <td>75.4</td>\n",
       "      <td>51.9</td>\n",
       "      <td>15.5</td>\n",
       "      <td>30.0</td>\n",
       "      <td>34.0</td>\n",
       "      <td>0</td>\n",
       "    </tr>\n",
       "    <tr>\n",
       "      <th>3</th>\n",
       "      <td>4</td>\n",
       "      <td>1</td>\n",
       "      <td>Vic</td>\n",
       "      <td>6.0</td>\n",
       "      <td>93.2</td>\n",
       "      <td>57.1</td>\n",
       "      <td>92.0</td>\n",
       "      <td>38.0</td>\n",
       "      <td>76.1</td>\n",
       "      <td>52.2</td>\n",
       "      <td>15.2</td>\n",
       "      <td>28.0</td>\n",
       "      <td>34.0</td>\n",
       "      <td>0</td>\n",
       "    </tr>\n",
       "    <tr>\n",
       "      <th>4</th>\n",
       "      <td>5</td>\n",
       "      <td>1</td>\n",
       "      <td>Vic</td>\n",
       "      <td>2.0</td>\n",
       "      <td>91.5</td>\n",
       "      <td>56.3</td>\n",
       "      <td>85.5</td>\n",
       "      <td>36.0</td>\n",
       "      <td>71.0</td>\n",
       "      <td>53.2</td>\n",
       "      <td>15.1</td>\n",
       "      <td>28.5</td>\n",
       "      <td>33.0</td>\n",
       "      <td>0</td>\n",
       "    </tr>\n",
       "  </tbody>\n",
       "</table>\n",
       "</div>"
      ],
      "text/plain": [
       "   case  site  Pop  age  hdlngth  skullw  totlngth  taill  footlgth  earconch  \\\n",
       "0     1     1  Vic  8.0     94.1    60.4      89.0   36.0      74.5      54.5   \n",
       "1     2     1  Vic  6.0     92.5    57.6      91.5   36.5      72.5      51.2   \n",
       "2     3     1  Vic  6.0     94.0    60.0      95.5   39.0      75.4      51.9   \n",
       "3     4     1  Vic  6.0     93.2    57.1      92.0   38.0      76.1      52.2   \n",
       "4     5     1  Vic  2.0     91.5    56.3      85.5   36.0      71.0      53.2   \n",
       "\n",
       "    eye  chest  belly  gender  \n",
       "0  15.2   28.0   36.0       1  \n",
       "1  16.0   28.5   33.0       0  \n",
       "2  15.5   30.0   34.0       0  \n",
       "3  15.2   28.0   34.0       0  \n",
       "4  15.1   28.5   33.0       0  "
      ]
     },
     "execution_count": 21,
     "metadata": {},
     "output_type": "execute_result"
    }
   ],
   "source": [
    "# check the first rows of data\n",
    "df_num.head()"
   ]
  },
  {
   "cell_type": "code",
   "execution_count": 29,
   "id": "1dcb3261",
   "metadata": {},
   "outputs": [],
   "source": [
    "# Select subset of predictors\n",
    "cols_to_use = ['hdlngth', 'skullw', 'totlngth', 'taill', 'footlgth', 'earconch', 'eye', 'chest', 'belly']\n",
    "X = df_num[cols_to_use]\n",
    "\n",
    "# Select target\n",
    "y = df_num.gender"
   ]
  },
  {
   "cell_type": "code",
   "execution_count": 30,
   "id": "f8ea9a99",
   "metadata": {},
   "outputs": [],
   "source": [
    "from sklearn.ensemble import RandomForestClassifier\n",
    "from sklearn.pipeline import Pipeline\n",
    "from sklearn.impute import SimpleImputer\n",
    "from sklearn.model_selection import cross_val_score"
   ]
  },
  {
   "cell_type": "code",
   "execution_count": 37,
   "id": "ba8a7a3f",
   "metadata": {},
   "outputs": [
    {
     "name": "stdout",
     "output_type": "stream",
     "text": [
      "Cross-validation accuracy: 0.567619\n"
     ]
    }
   ],
   "source": [
    "# Creating a pipline for preprocessing steps (fill null values..etc)\n",
    "my_pipeline = Pipeline(steps=[('preprocessor', SimpleImputer()),\n",
    "                              ('model', RandomForestClassifier(n_estimators=1000,\n",
    "                                                              random_state=0))\n",
    "                             ])\n",
    "\n",
    "# Calculate cross-validation score\n",
    "cv_scores = cross_val_score(my_pipeline, X, y, \n",
    "                            cv=5,\n",
    "                            scoring='accuracy')\n",
    "\n",
    "print(\"Cross-validation accuracy: %f\" % cv_scores.mean())"
   ]
  },
  {
   "cell_type": "markdown",
   "id": "27fe1d71",
   "metadata": {},
   "source": [
    "# Would model accuracy increase if we use age variable with body dimensions to predict Possums sex ?\n"
   ]
  },
  {
   "cell_type": "code",
   "execution_count": 41,
   "id": "f7545d0a",
   "metadata": {},
   "outputs": [],
   "source": [
    "# Select subset of predictors\n",
    "cols_to_use = ['hdlngth', 'skullw', 'totlngth', 'taill', 'footlgth', 'earconch', 'eye', 'chest', 'belly', 'age']\n",
    "X = df_num[cols_to_use]\n",
    "\n",
    "# Select target\n",
    "y = df_num.gender"
   ]
  },
  {
   "cell_type": "code",
   "execution_count": 42,
   "id": "5858807e",
   "metadata": {},
   "outputs": [
    {
     "name": "stdout",
     "output_type": "stream",
     "text": [
      "Cross-validation accuracy: 0.577143\n"
     ]
    }
   ],
   "source": [
    "# Creating a pipline for preprocessing steps (fill null values..etc)\n",
    "my_pipeline = Pipeline(steps=[('preprocessor', SimpleImputer()),\n",
    "                              ('model', RandomForestClassifier(n_estimators=1000,\n",
    "                                                              random_state=0))\n",
    "                             ])\n",
    "\n",
    "# Calculate cross-validation score\n",
    "cv_scores = cross_val_score(my_pipeline, X, y, \n",
    "                            cv=5,\n",
    "                            scoring='accuracy')\n",
    "\n",
    "print(\"Cross-validation accuracy: %f\" % cv_scores.mean())"
   ]
  },
  {
   "cell_type": "markdown",
   "id": "cfc57859",
   "metadata": {},
   "source": [
    "## Making some prediction using Random forest and XGboost algorithms\n",
    "\n",
    "### Research Question 3: can we predict the age of Possums using body dimensions?"
   ]
  },
  {
   "cell_type": "markdown",
   "id": "3640814b",
   "metadata": {},
   "source": [
    "# Random forest model to predict Possums age"
   ]
  },
  {
   "cell_type": "code",
   "execution_count": 63,
   "id": "2940f75d",
   "metadata": {},
   "outputs": [
    {
     "name": "stdout",
     "output_type": "stream",
     "text": [
      "Cross-validation accuracy: 1.478658\n"
     ]
    }
   ],
   "source": [
    "from sklearn.compose import ColumnTransformer\n",
    "from sklearn.pipeline import Pipeline\n",
    "from sklearn.impute import SimpleImputer\n",
    "from sklearn.preprocessing import OneHotEncoder\n",
    "\n",
    "# Select subset of predictors\n",
    "cols_to_use = ['hdlngth', 'skullw', 'totlngth', 'taill', 'footlgth', 'earconch', 'eye', 'chest', 'belly', 'sex']\n",
    "X = df[cols_to_use]\n",
    "\n",
    "# Select target\n",
    "y = df.age\n",
    "y= y.fillna(method= 'backfill')\n",
    "\n",
    "# Define numerical columns\n",
    "numerical_cols =['hdlngth', 'skullw', 'totlngth', 'taill', 'footlgth', 'earconch', 'eye', 'chest', 'belly']\n",
    "# Define categorical columns\n",
    "categorical_cols= ['sex']\n",
    "\n",
    "# Preprocessing for numerical data\n",
    "numerical_transformer = SimpleImputer(strategy='constant')\n",
    "\n",
    "# Preprocessing for categorical data\n",
    "categorical_transformer = Pipeline(steps=[\n",
    "    ('imputer', SimpleImputer(strategy='most_frequent')),\n",
    "    ('onehot', OneHotEncoder(handle_unknown='ignore'))\n",
    "])\n",
    "\n",
    "# Bundle preprocessing for numerical and categorical data\n",
    "preprocessor = ColumnTransformer(\n",
    "    transformers=[\n",
    "        ('num', numerical_transformer, numerical_cols),\n",
    "        ('cat', categorical_transformer, categorical_cols)\n",
    "    ])\n",
    "\n",
    "\n",
    "# Define the model\n",
    "from sklearn.ensemble import RandomForestRegressor\n",
    "model = RandomForestRegressor(n_estimators=1000, random_state=0)\n",
    "\n",
    "# Bundle preprocessing and modeling code in a pipeline\n",
    "my_pipeline = Pipeline(steps=[('preprocessor', preprocessor),\n",
    "                              ('model', model)\n",
    "                             ])\n",
    "\n",
    "# Calculate cross-validation score\n",
    "cv_scores = -1 * cross_val_score(my_pipeline, X, y, \n",
    "                            cv=5,\n",
    "                            scoring='neg_mean_absolute_error')\n",
    "\n",
    "print(\"Cross-validation accuracy: %f\" % cv_scores.mean())"
   ]
  },
  {
   "cell_type": "markdown",
   "id": "f0518182",
   "metadata": {},
   "source": [
    "# XGboost model to predict Possums age"
   ]
  },
  {
   "cell_type": "code",
   "execution_count": 72,
   "id": "73145c10",
   "metadata": {},
   "outputs": [
    {
     "name": "stdout",
     "output_type": "stream",
     "text": [
      "Cross-validation accuracy: 1.589771\n"
     ]
    }
   ],
   "source": [
    "from sklearn.compose import ColumnTransformer\n",
    "from sklearn.pipeline import Pipeline\n",
    "from sklearn.impute import SimpleImputer\n",
    "from sklearn.preprocessing import OneHotEncoder\n",
    "\n",
    "# Select subset of predictors\n",
    "cols_to_use = ['hdlngth', 'skullw', 'totlngth', 'taill', 'footlgth', 'earconch', 'eye', 'chest', 'belly', 'sex']\n",
    "X = df[cols_to_use]\n",
    "\n",
    "# Select target\n",
    "y = df.age\n",
    "y= y.fillna(method= 'backfill')\n",
    "\n",
    "# Define numerical columns\n",
    "numerical_cols =['hdlngth', 'skullw', 'totlngth', 'taill', 'footlgth', 'earconch', 'eye', 'chest', 'belly']\n",
    "# Define categorical columns\n",
    "categorical_cols= ['sex']\n",
    "\n",
    "# Preprocessing for numerical data\n",
    "numerical_transformer = SimpleImputer(strategy='constant')\n",
    "\n",
    "# Preprocessing for categorical data\n",
    "categorical_transformer = Pipeline(steps=[\n",
    "    ('imputer', SimpleImputer(strategy='most_frequent')),\n",
    "    ('onehot', OneHotEncoder(handle_unknown='ignore'))\n",
    "])\n",
    "\n",
    "# Bundle preprocessing for numerical and categorical data\n",
    "preprocessor = ColumnTransformer(\n",
    "    transformers=[\n",
    "        ('num', numerical_transformer, numerical_cols),\n",
    "        ('cat', categorical_transformer, categorical_cols)\n",
    "    ])\n",
    "\n",
    "\n",
    "# Define the model\n",
    "from xgboost import XGBRegressor\n",
    "model = XGBRegressor(n_estimators=500, learning_rate=0.05)\n",
    "\n",
    "# Bundle preprocessing and modeling code in a pipeline\n",
    "my_pipeline = Pipeline(steps=[('preprocessor', preprocessor),\n",
    "                              ('model', model)\n",
    "                             ])\n",
    "\n",
    "# Calculate cross-validation score\n",
    "cv_scores = -1 * cross_val_score(my_pipeline, X, y, \n",
    "                            cv=5,\n",
    "                            scoring='neg_mean_absolute_error')\n",
    "\n",
    "print(\"Cross-validation accuracy: %f\" % cv_scores.mean())"
   ]
  },
  {
   "cell_type": "markdown",
   "id": "07339f52",
   "metadata": {},
   "source": [
    "# Conclusion:\n",
    "\n",
    "1- Avaliable data showing that 'age' variable can increase model accuracy to predict Possums 'sex' if added to body dimensions variables using RF classifier.\n",
    "\n",
    "2 - Avaliable data shwoing that RF model is better in prediction of Possums age using body dimensions  variable.\n",
    "\n",
    "## Limitations:\n",
    "1- The dataset is very small to train models (104 samples), I think that's why models scores are quite poor."
   ]
  },
  {
   "cell_type": "code",
   "execution_count": null,
   "id": "e6f767f1",
   "metadata": {},
   "outputs": [],
   "source": []
  }
 ],
 "metadata": {
  "kernelspec": {
   "display_name": "Python 3 (ipykernel)",
   "language": "python",
   "name": "python3"
  },
  "language_info": {
   "codemirror_mode": {
    "name": "ipython",
    "version": 3
   },
   "file_extension": ".py",
   "mimetype": "text/x-python",
   "name": "python",
   "nbconvert_exporter": "python",
   "pygments_lexer": "ipython3",
   "version": "3.10.4"
  }
 },
 "nbformat": 4,
 "nbformat_minor": 5
}
